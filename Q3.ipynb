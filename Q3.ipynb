{
 "cells": [
  {
   "cell_type": "code",
   "execution_count": 1,
   "metadata": {},
   "outputs": [],
   "source": [
    "import numpy as np"
   ]
  },
  {
   "cell_type": "markdown",
   "metadata": {},
   "source": [
    "#### Question: You roll a fair 6-sided dice repeatedly until the sum of the dice rolls is greater than or equal to M. For all questions, give your answer to 5 decimal places."
   ]
  },
  {
   "cell_type": "markdown",
   "metadata": {},
   "source": [
    "##### 1. What is the mean of the sum minus M when M=20?"
   ]
  },
  {
   "cell_type": "code",
   "execution_count": 6,
   "metadata": {},
   "outputs": [],
   "source": [
    "# set up the fair 6-sided dice\n",
    "dice = [i+1 for i in range(6)]\n",
    "probabilities = [1/6 for i in range(6)]"
   ]
  },
  {
   "cell_type": "code",
   "execution_count": 8,
   "metadata": {},
   "outputs": [
    {
     "name": "stdout",
     "output_type": "stream",
     "text": [
      "[23]\n"
     ]
    }
   ],
   "source": [
    "# roll a fair 6-sided dice repeatedly until the sum of the dice rolls is greater than or equal to M\n",
    "M = 20\n",
    "dice_sum = 0\n",
    "while dice_sum < M:\n",
    "    dice_sum += np.random.choice(dice, p = probabilities, size = 1)\n",
    "print(dice_sum)"
   ]
  },
  {
   "cell_type": "code",
   "execution_count": 9,
   "metadata": {},
   "outputs": [],
   "source": [
    "# Make the rolling of dices as a function\n",
    "def roll_dice(M):\n",
    "    dice_sum = 0\n",
    "    count = 0 \n",
    "    while dice_sum < M:\n",
    "        dice_sum +=  np.random.choice(dice, p = probabilities, size = 1)\n",
    "        count += 1\n",
    "    return dice_sum, count"
   ]
  },
  {
   "cell_type": "code",
   "execution_count": 10,
   "metadata": {},
   "outputs": [],
   "source": [
    "# run statisitcal simulation to model 50000 times, and record the results into an array\n",
    "sums_20 = np.empty(50000)\n",
    "counts_20 = np.empty(50000)\n",
    "\n",
    "for i in range(len(sums_20)):\n",
    "    sums_20[i] = roll_dice(M = 20)[0]\n",
    "    counts_20[i] = roll_dice(M = 20)[1]"
   ]
  },
  {
   "cell_type": "code",
   "execution_count": 11,
   "metadata": {},
   "outputs": [],
   "source": [
    "# calculate the mean of the sum minus M when M = 20\n",
    "Q1_mean = np.mean(sums_20 - 20)"
   ]
  },
  {
   "cell_type": "code",
   "execution_count": 12,
   "metadata": {},
   "outputs": [
    {
     "name": "stdout",
     "output_type": "stream",
     "text": [
      "the mean of the sum minus M when M = 20 is 1.66196\n"
     ]
    }
   ],
   "source": [
    "print(\"the mean of the sum minus M when M = 20 is {:.5f}\".format(Q1_mean))"
   ]
  },
  {
   "cell_type": "markdown",
   "metadata": {},
   "source": [
    "##### 2. What is the mean of the number of rolls when M=20?"
   ]
  },
  {
   "cell_type": "code",
   "execution_count": 13,
   "metadata": {},
   "outputs": [],
   "source": [
    "# calculate the mean of the number of rolls when M=20?\n",
    "Q2_number = np.mean(counts_20)"
   ]
  },
  {
   "cell_type": "code",
   "execution_count": 14,
   "metadata": {},
   "outputs": [
    {
     "name": "stdout",
     "output_type": "stream",
     "text": [
      "the mean of the number of rolls when M=20 is 6.19112\n"
     ]
    }
   ],
   "source": [
    "print(\"the mean of the number of rolls when M=20 is {:.5f}\".format(Q2_number))"
   ]
  },
  {
   "cell_type": "markdown",
   "metadata": {},
   "source": [
    "##### 3. What is the standard deviation of the sum minus M when M=20?"
   ]
  },
  {
   "cell_type": "code",
   "execution_count": 15,
   "metadata": {},
   "outputs": [],
   "source": [
    "# calculate the standard deviation of the sum minus M when M=20\n",
    "Q3_std = np.std(sums_20 - 20)"
   ]
  },
  {
   "cell_type": "code",
   "execution_count": 16,
   "metadata": {},
   "outputs": [
    {
     "name": "stdout",
     "output_type": "stream",
     "text": [
      "the standard deviation of the sum minus M when M = 20 is 1.48490\n"
     ]
    }
   ],
   "source": [
    "print(\"the standard deviation of the sum minus M when M = 20 is {:.5f}\".format(Q3_std))"
   ]
  },
  {
   "cell_type": "markdown",
   "metadata": {},
   "source": [
    "##### 4. What is the mean of the sum minus M when M=5000?"
   ]
  },
  {
   "cell_type": "code",
   "execution_count": 17,
   "metadata": {},
   "outputs": [],
   "source": [
    "# run statisitcal simulation to model 50000 times, and record the results into an array\n",
    "sums_5000 = np.empty(50000)\n",
    "counts_5000 = np.empty(50000)\n",
    "\n",
    "for i in range(len(sums_5000)):\n",
    "    sums_5000[i] = roll_dice(M = 5000)[0]\n",
    "    counts_5000[i] = roll_dice(M = 5000)[1]"
   ]
  },
  {
   "cell_type": "code",
   "execution_count": 18,
   "metadata": {},
   "outputs": [],
   "source": [
    "# calculate the mean of the sum minus M when M = 5000\n",
    "Q4_mean = np.mean(sums_5000 - 5000)"
   ]
  },
  {
   "cell_type": "code",
   "execution_count": 19,
   "metadata": {},
   "outputs": [
    {
     "name": "stdout",
     "output_type": "stream",
     "text": [
      "the mean of the sum minus M when M = 5000 is 1.65466\n"
     ]
    }
   ],
   "source": [
    "print(\"the mean of the sum minus M when M = 5000 is {:.5f}\".format(Q4_mean))"
   ]
  },
  {
   "cell_type": "markdown",
   "metadata": {},
   "source": [
    "##### 5. What is the mean of the number of rolls when M=5000?"
   ]
  },
  {
   "cell_type": "code",
   "execution_count": 22,
   "metadata": {},
   "outputs": [],
   "source": [
    "# calculate the mean of the number of rolls when M=5000?\n",
    "Q5_number = np.mean(counts_5000)"
   ]
  },
  {
   "cell_type": "code",
   "execution_count": 23,
   "metadata": {},
   "outputs": [
    {
     "name": "stdout",
     "output_type": "stream",
     "text": [
      "the mean of the number of rolls when M=5000 is 1429.05800\n"
     ]
    }
   ],
   "source": [
    "print(\"the mean of the number of rolls when M=5000 is {:.5f}\".format(Q5_number))"
   ]
  },
  {
   "cell_type": "markdown",
   "metadata": {},
   "source": [
    "##### 6. What is the standard deviation of the sum minus M when M=5000?"
   ]
  },
  {
   "cell_type": "code",
   "execution_count": 24,
   "metadata": {},
   "outputs": [],
   "source": [
    "# calculate the standard deviation of the sum minus M when M=5000\n",
    "Q6_std = np.std(sums_5000 - 5000)"
   ]
  },
  {
   "cell_type": "code",
   "execution_count": 25,
   "metadata": {},
   "outputs": [
    {
     "name": "stdout",
     "output_type": "stream",
     "text": [
      "the standard deviation of the sum minus M when M = 5000 is 1.48459\n"
     ]
    }
   ],
   "source": [
    "print(\"the standard deviation of the sum minus M when M = 5000 is {:.5f}\".format(Q6_std))"
   ]
  },
  {
   "cell_type": "code",
   "execution_count": null,
   "metadata": {},
   "outputs": [],
   "source": []
  }
 ],
 "metadata": {
  "kernelspec": {
   "display_name": "Python 3",
   "language": "python",
   "name": "python3"
  },
  "language_info": {
   "codemirror_mode": {
    "name": "ipython",
    "version": 3
   },
   "file_extension": ".py",
   "mimetype": "text/x-python",
   "name": "python",
   "nbconvert_exporter": "python",
   "pygments_lexer": "ipython3",
   "version": "3.6.1"
  }
 },
 "nbformat": 4,
 "nbformat_minor": 2
}
